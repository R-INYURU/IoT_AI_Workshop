{
 "cells": [
  {
   "cell_type": "code",
   "execution_count": 62,
   "metadata": {},
   "outputs": [],
   "source": [
    "import pandas as pd\n",
    "from sklearn.linear_model import LinearRegression\n",
    "from sklearn.model_selection import train_test_split\n",
    "import pickle"
   ]
  },
  {
   "cell_type": "code",
   "execution_count": 5,
   "metadata": {},
   "outputs": [],
   "source": [
    "data = pd.read_csv('Housing.csv')"
   ]
  },
  {
   "cell_type": "code",
   "execution_count": null,
   "metadata": {},
   "outputs": [],
   "source": [
    "data.tail(-5)"
   ]
  },
  {
   "cell_type": "code",
   "execution_count": null,
   "metadata": {},
   "outputs": [],
   "source": [
    "data.describe()"
   ]
  },
  {
   "cell_type": "code",
   "execution_count": 44,
   "metadata": {},
   "outputs": [
    {
     "data": {
      "text/plain": [
       "Index(['price', 'area', 'bedrooms', 'bathrooms', 'stories', 'parking',\n",
       "       'mainroad_no', 'mainroad_yes', 'guestroom_no', 'guestroom_yes',\n",
       "       'basement_no', 'basement_yes', 'hotwaterheating_no',\n",
       "       'hotwaterheating_yes', 'airconditioning_no', 'airconditioning_yes',\n",
       "       'prefarea_no', 'prefarea_yes', 'furnishingstatus_furnished',\n",
       "       'furnishingstatus_semi-furnished', 'furnishingstatus_unfurnished'],\n",
       "      dtype='object')"
      ]
     },
     "execution_count": 44,
     "metadata": {},
     "output_type": "execute_result"
    }
   ],
   "source": [
    "data.columns"
   ]
  },
  {
   "cell_type": "code",
   "execution_count": 37,
   "metadata": {},
   "outputs": [],
   "source": [
    "data = pd.get_dummies(data, columns=['mainroad',\n",
    "       'guestroom', 'basement', 'hotwaterheating', 'airconditioning',\n",
    "        'prefarea', 'furnishingstatus'])"
   ]
  },
  {
   "cell_type": "code",
   "execution_count": 39,
   "metadata": {},
   "outputs": [],
   "source": [
    "X = data.drop(columns=['price'])"
   ]
  },
  {
   "cell_type": "code",
   "execution_count": 40,
   "metadata": {},
   "outputs": [],
   "source": [
    "Y = data['price']"
   ]
  },
  {
   "cell_type": "code",
   "execution_count": 41,
   "metadata": {},
   "outputs": [],
   "source": [
    "X_train, X_test, y_train, y_test = train_test_split(\n",
    "    X, Y, test_size=0.2)\n"
   ]
  },
  {
   "cell_type": "code",
   "execution_count": null,
   "metadata": {},
   "outputs": [],
   "source": [
    "model = LinearRegression()\n",
    "model.fit(X_train, y_train)"
   ]
  },
  {
   "cell_type": "code",
   "execution_count": 65,
   "metadata": {},
   "outputs": [],
   "source": [
    "pickle.dump(model, open('house_predict_model.pkl','wb'))"
   ]
  },
  {
   "cell_type": "code",
   "execution_count": 59,
   "metadata": {},
   "outputs": [
    {
     "name": "stdout",
     "output_type": "stream",
     "text": [
      "[[3420 4 2 ... False True False]\n",
      " [4046 3 1 ... False True False]\n",
      " [8080 3 1 ... False True False]\n",
      " ...\n",
      " [6360 3 1 ... True False False]\n",
      " [4000 3 2 ... False True False]\n",
      " [6600 2 2 ... True False False]]\n",
      "[ 4893000  4165000  3920000  3773000  4956000  3850000  3633000  7035000\n",
      "  6650000  3605000  6475000  3430000  4445000 11410000  6107500  7420000\n",
      "  1767150  3710000  6440000  6650000  4900000  8400000  3353000  7420000\n",
      "  3220000  3255000  3150000  4690000  4480000  4025000  4900000  3087000\n",
      "  4060000  3465000  3290000  5425000  2380000  4025000  4893000  4585000\n",
      "  5460000  4165000  1890000  3745000  5215000  4515000  3360000  2485000\n",
      "  4375000  5950000  4130000  3500000  4690000  6083000  4340000  2310000\n",
      "  5565000  4753000  4900000  3118850  4200000  3500000  7840000  3493000\n",
      "  6475000  4970000  2450000  3150000  4403000  1750000  4200000  2408000\n",
      "  9681000  2590000  2940000  4473000  7560000  4480000  3500000  7980000\n",
      "  2835000  3710000  5250000  5110000  4970000  3010000  3773000  5950000\n",
      "  3010000  5075000  3500000  4193000  2870000  6300000  6650000  4935000\n",
      "  5383000  4900000  6195000  8400000  7455000  3990000  6440000  3640000\n",
      "  4095000  2135000  5740000  6790000  6685000]\n"
     ]
    }
   ],
   "source": [
    "import numpy as np\n",
    "x_test = np.array(X_test)\n",
    "print(np.array(X_test))\n",
    "y_test = np.array(y_test)\n",
    "print(np.array(y_test))"
   ]
  },
  {
   "cell_type": "code",
   "execution_count": 68,
   "metadata": {},
   "outputs": [
    {
     "name": "stdout",
     "output_type": "stream",
     "text": [
      "6508327.030970767\n"
     ]
    }
   ],
   "source": [
    "model = pickle.load(open('house_predict_model.pkl','rb'))\n",
    "predicted_price = model.predict(X_test)\n",
    "\n",
    "print(predicted_price[0])"
   ]
  }
 ],
 "metadata": {
  "kernelspec": {
   "display_name": "Python 3",
   "language": "python",
   "name": "python3"
  },
  "language_info": {
   "codemirror_mode": {
    "name": "ipython",
    "version": 3
   },
   "file_extension": ".py",
   "mimetype": "text/x-python",
   "name": "python",
   "nbconvert_exporter": "python",
   "pygments_lexer": "ipython3",
   "version": "3.10.12"
  }
 },
 "nbformat": 4,
 "nbformat_minor": 2
}
